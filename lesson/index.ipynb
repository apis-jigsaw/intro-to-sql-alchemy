{
 "cells": [
  {
   "cell_type": "markdown",
   "id": "bfba4006-39b7-4f6e-b7a8-2331ab45305c",
   "metadata": {},
   "source": [
    "# Intro to SqlAlchemy"
   ]
  },
  {
   "cell_type": "markdown",
   "id": "8e0c438b-078f-42e9-84bb-ef5f7139714f",
   "metadata": {},
   "source": [
    "### Introduction\n",
    "\n",
    "SQLAlchemy is an object relational mapper library that relates our models to their corresponding tables and also will write some common SQL queries for us.  \n",
    "\n",
    "Let's get started."
   ]
  },
  {
   "cell_type": "markdown",
   "id": "fd7f3549-95cd-4c53-b7f9-d32ee18e161d",
   "metadata": {},
   "source": [
    "### Setting it up"
   ]
  },
  {
   "cell_type": "markdown",
   "id": "f2272cf7-3a1c-43d9-a002-6a4fe64d8fbb",
   "metadata": {},
   "source": [
    "The first step is to install the `flask_sqlalchemy` library which is located in the `requirements.txt` file and can be installed with a call to `pip3 install -r requirements.txt`.\n",
    "\n",
    "Then you can see that we have already provided code in the `src` folder, that gets us started.\n",
    "\n",
    "Let's move through the relevant code and files."
   ]
  },
  {
   "cell_type": "markdown",
   "id": "bb9538c2-fd9d-4658-9c8e-2e9c83790033",
   "metadata": {},
   "source": [
    "* `app/__init__.py`\n",
    "\n",
    "And if you look at the `app/__init__.py` file, you can see a `create_app` function.  After creating our flask application, we then create a connection string to our postgres application and a database called crm (which we will need).  Then we set the `SQLALCHEMY_DATABASE_URI` on our flask app, and tell SQLalchemy about our flask application with a call to `db.init_app(app)`.\n",
    "\n",
    "This `db.init_app` tells sqlalchemy about our flask application, and also about the database we want to connect to -- as it is stored in our app's config.\n",
    "\n",
    "```python\n",
    "def create_app():\n",
    "    app = Flask(__name__)\n",
    "    conn_str = \"postgresql://localhost:5432/crm\"\n",
    "    app.config['SQLALCHEMY_DATABASE_URI'] = conn_str\n",
    "    db.init_app(app)\n",
    "    return app\n",
    "```"
   ]
  },
  {
   "cell_type": "markdown",
   "id": "0ffa5314-7187-4b18-87ab-02cce0ddb399",
   "metadata": {},
   "source": [
    "* `server.py`"
   ]
  },
  {
   "cell_type": "markdown",
   "id": "cc26340d-c917-4fd7-bbec-bab3f9d64bca",
   "metadata": {},
   "source": [
    "Next, let's move onto the `server.py` file focusing on the first few lines."
   ]
  },
  {
   "cell_type": "markdown",
   "id": "71d135a3-86e2-4d8b-b42f-ed57d8704aa0",
   "metadata": {},
   "source": [
    "```python\n",
    "from app import create_app, db\n",
    "from app.models import User\n",
    "\n",
    "app = create_app()\n",
    "```"
   ]
  },
  {
   "cell_type": "markdown",
   "id": "02aa9488-ee09-4a79-b223-ae5b3178fc87",
   "metadata": {},
   "source": [
    "So here, we can see we are importing the `create_app` function, and the `db` object we saw before.  We are also importing our User model.\n",
    "\n",
    "Let's take a look at that next."
   ]
  },
  {
   "cell_type": "markdown",
   "id": "51f00627-6b8e-4e0f-a2fb-023c88ffbcab",
   "metadata": {},
   "source": [
    "* `app/models/user.py`"
   ]
  },
  {
   "cell_type": "markdown",
   "id": "f5290bbf-71e7-427b-809f-c2bcc311caa2",
   "metadata": {},
   "source": [
    "```python\n",
    "from app import db\n",
    "\n",
    "class User(db.Model):\n",
    "    __tablename__ = 'users'\n",
    "\n",
    "    id = db.Column(db.Integer, primary_key=True)\n",
    "    username = db.Column(db.String(80), unique=True, nullable=False)\n",
    "    email = db.Column(db.String(120), unique=True, nullable=False)\n",
    "```"
   ]
  },
  {
   "cell_type": "markdown",
   "id": "68d7e0e0-383a-4604-9f0f-3aaeedd21dc8",
   "metadata": {},
   "source": [
    "So in this file, notice that at the very top we are importing our db object (which has knowledge about the postgres database), and then having the User model inherit from `db.Model`.  We are then setting class variables of id, username and email.  And are setting them equal to `Column` instances that are specified as certain types like integer, or strings.  \n",
    "\n",
    "> We also set attributes for username and email like specifying uniqueness, and that values cannot be null.  "
   ]
  },
  {
   "cell_type": "markdown",
   "id": "0324a386-34c0-40da-80ad-54a131bcdc5b",
   "metadata": {},
   "source": [
    "### Reviewing with the Server file"
   ]
  },
  {
   "cell_type": "markdown",
   "id": "665f053c-ee18-4b4f-bafa-8e7b65767fb2",
   "metadata": {},
   "source": [
    "Ok so back to our `server.py` file."
   ]
  },
  {
   "cell_type": "markdown",
   "id": "78fa8201-84c1-4250-bc25-7569314c2f37",
   "metadata": {},
   "source": [
    "```python\n",
    "from app import create_app, db\n",
    "from app.models import User\n",
    "\n",
    "app = create_app()\n",
    "```"
   ]
  },
  {
   "cell_type": "markdown",
   "id": "bcbf1ea6-f9cc-4d92-9a69-81a2ce063264",
   "metadata": {},
   "source": [
    "We can see that the create_app function connects the db object to our database, and that we import a User model that is connected to this database, as the model inherits from `db.Model`.\n",
    "\n",
    "And then finally, in the last few lines we make this thing called `shell_context` that knows about both the db and User objects.\n",
    "\n",
    "```python\n",
    "@app.shell_context_processor\n",
    "def make_shell_context():\n",
    "    return {'db': db, 'User': User}\n",
    "```\n",
    "\n",
    "Let's see what this shell context is."
   ]
  },
  {
   "cell_type": "markdown",
   "id": "a31ca52f-973d-4af6-b1e7-ac85e54bcc48",
   "metadata": {},
   "source": [
    "It turns out that sqlalchemy knows about our `server.py` file, because of the `.flaskenv` file that has the following:\n",
    "```bash\n",
    "export FLASK_APP=server.py\n",
    "```\n",
    "\n",
    "So if we run `flask shell`, it will see the make_shell_context function in the `server.py` file.  \n",
    "\n",
    "Let's try it."
   ]
  },
  {
   "cell_type": "markdown",
   "id": "2edf7fbc-062c-426d-9327-34e3fab79805",
   "metadata": {},
   "source": [
    "### Accessing the shell"
   ]
  },
  {
   "cell_type": "markdown",
   "id": "3c699252-a347-4306-9621-32965ae2a39f",
   "metadata": {},
   "source": [
    "We can access the shell by typing `flask shell`."
   ]
  },
  {
   "cell_type": "markdown",
   "id": "81b0b799-b687-4766-944e-2773d606f733",
   "metadata": {},
   "source": [
    "<img src=\"./flask-shell.png\" width=\"70%\">"
   ]
  },
  {
   "cell_type": "markdown",
   "id": "6026fd0e-9f01-4bc6-b64b-bf6fe7549df6",
   "metadata": {},
   "source": [
    "And notice above that we have access to the `db` and `User` objects, as we imported them into our shell context with our line:"
   ]
  },
  {
   "cell_type": "markdown",
   "id": "f9117c13-3080-49b9-ac46-ed6d5174c7c5",
   "metadata": {},
   "source": [
    "```python\n",
    "@app.shell_context_processor\n",
    "def make_shell_context():\n",
    "    return {'db': db, 'User': User}\n",
    "```"
   ]
  },
  {
   "cell_type": "markdown",
   "id": "221f5915-d63a-4cb6-a9c5-dfb5967a6187",
   "metadata": {},
   "source": [
    "And from there, we can *almost* query the database with the following:"
   ]
  },
  {
   "cell_type": "markdown",
   "id": "c36cc129-2fc5-4552-b0b6-243457d8583f",
   "metadata": {},
   "source": [
    "```python3\n",
    "db.session.query(User).all()\n",
    "```"
   ]
  },
  {
   "cell_type": "markdown",
   "id": "bae5e0c2-ccc5-40b9-9a1f-4f4baa80bc2c",
   "metadata": {},
   "source": [
    "If we try this, we'll get the following error."
   ]
  },
  {
   "cell_type": "markdown",
   "id": "69072659-a070-420b-938a-5262cb7c1196",
   "metadata": {},
   "source": [
    "```bash\n",
    "port 5432 failed: FATAL:  database \"crm\" does not exist\n",
    "```"
   ]
  },
  {
   "cell_type": "markdown",
   "id": "e572dd1b-2666-4fa6-a77a-ea592f1dc711",
   "metadata": {},
   "source": [
    "So let's log into postgres, create the database crm, and then run the `create_tables.sql` file in the migrations folder to create the users table. "
   ]
  },
  {
   "cell_type": "markdown",
   "id": "7b3f48be-57e7-4221-8c4c-01ce211fbf12",
   "metadata": {},
   "source": [
    "> First connect to postgres."
   ]
  },
  {
   "cell_type": "markdown",
   "id": "5fcd2a0f-8554-4d24-9fea-d96b26d9b8d9",
   "metadata": {},
   "source": [
    "```bash\n",
    "psql\n",
    "```"
   ]
  },
  {
   "cell_type": "markdown",
   "id": "465f4ff6-dd70-481c-86a2-ac999838e1ae",
   "metadata": {},
   "source": [
    "And then create the database called `crm`."
   ]
  },
  {
   "cell_type": "markdown",
   "id": "8b1536f2-aad2-40fa-94cd-23d01664b433",
   "metadata": {},
   "source": [
    "<img src=\"./build_db.png\" width=\"70%\">"
   ]
  },
  {
   "cell_type": "markdown",
   "id": "b0c4a0e3-81b2-4ba9-a756-37a1e9c59125",
   "metadata": {},
   "source": [
    "And then we can exit out of postgres, and run the create table statement against the database."
   ]
  },
  {
   "cell_type": "markdown",
   "id": "b804445b-748d-4690-826d-4c0272fba733",
   "metadata": {},
   "source": [
    "```bash\n",
    "psql -d crm -f migrations/create_tables.sql\n",
    "```"
   ]
  },
  {
   "cell_type": "markdown",
   "id": "cf014262-0a79-4485-ba69-6b819efd7306",
   "metadata": {},
   "source": [
    "### Getting there"
   ]
  },
  {
   "cell_type": "markdown",
   "id": "7071b184-a42e-4ddc-a07f-3dda957a8f7b",
   "metadata": {},
   "source": [
    "Ok, so now if we log back into the shell."
   ]
  },
  {
   "cell_type": "markdown",
   "id": "f849d5b7-dd24-4b0d-a8c5-c6fe55d68de0",
   "metadata": {},
   "source": [
    "```bash\n",
    "flask shell\n",
    "```"
   ]
  },
  {
   "cell_type": "markdown",
   "id": "6b508f3c-51ec-445b-a4ee-8f252d378129",
   "metadata": {},
   "source": [
    "We can query the database."
   ]
  },
  {
   "cell_type": "markdown",
   "id": "38237523-90e7-4fa8-825f-5bc0bf245346",
   "metadata": {},
   "source": [
    "<img src=\"./query-all.png\" width=\"60%\">"
   ]
  },
  {
   "cell_type": "markdown",
   "id": "085383c4-63d7-4352-8ecf-c11e6276a551",
   "metadata": {},
   "source": [
    "And if we want to see what sqlalchemy ran under the hood, we can do so with the following."
   ]
  },
  {
   "cell_type": "markdown",
   "id": "8399cf50-a02b-4ac6-b3aa-c975cbbc7fcd",
   "metadata": {},
   "source": [
    "<img src=\"./last-statement.png\" width=\"70%\">"
   ]
  },
  {
   "cell_type": "markdown",
   "id": "83c761d5-f8f9-48cd-9616-92eca75f8b41",
   "metadata": {},
   "source": [
    "So we can see, we are selecting all of the records (and all columns) in the users table.  \n",
    "\n",
    "And SqlAlchemy knew which columns and table to query by looking at the User model."
   ]
  },
  {
   "cell_type": "markdown",
   "id": "b6e9dc7e-21a4-4184-8135-2b7c2ff33eb1",
   "metadata": {},
   "source": [
    "### Summary"
   ]
  },
  {
   "cell_type": "markdown",
   "id": "43308876-72dd-4f87-8fe5-8da6444e763b",
   "metadata": {},
   "source": [
    "In this lesson, we saw how to get up and running with sqlalchemy.  Some of the main steps were to:\n",
    "\n",
    "1. Tell the sqlalchemy db object about the database\n",
    "\n",
    "```python\n",
    "db = SQLAlchemy()\n",
    "\n",
    "def create_app():\n",
    "    app = Flask(__name__)\n",
    "    conn_str = \"postgresql://localhost:5432/crm\"\n",
    "    app.config['SQLALCHEMY_DATABASE_URI'] = conn_str\n",
    "    db.init_app(app)\n",
    "    return app\n",
    "```\n",
    "\n",
    "2. Pass the db object into the respective model\n",
    "\n",
    "```python\n",
    "from app import db\n",
    "\n",
    "class User(db.Model):\n",
    "    __tablename__ = 'users'\n",
    "\n",
    "    id = db.Column(db.Integer, primary_key=True)\n",
    "```\n",
    "\n",
    "3. User the .flaskenv file to set the FLASK_APP env variable\n",
    "\n",
    "```\n",
    "export FLASK_APP=server.py\n",
    "```\n",
    "\n",
    "4. In the `server.py` file, import the db object specify objects we want to access in the shell\n",
    "\n",
    "```python\n",
    "@app.shell_context_processor\n",
    "def make_shell_context():\n",
    "    return {'db': db, 'User': User}\n",
    "```\n",
    "\n",
    "5. Then, after creating the database and tables we can make queries\n",
    "```bash\n",
    "flask shell\n",
    "```\n",
    "\n",
    "```python\n",
    "db.session.query(User).all()\n",
    "```"
   ]
  }
 ],
 "metadata": {
  "kernelspec": {
   "display_name": "Python 3 (ipykernel)",
   "language": "python",
   "name": "python3"
  },
  "language_info": {
   "codemirror_mode": {
    "name": "ipython",
    "version": 3
   },
   "file_extension": ".py",
   "mimetype": "text/x-python",
   "name": "python",
   "nbconvert_exporter": "python",
   "pygments_lexer": "ipython3",
   "version": "3.9.12"
  }
 },
 "nbformat": 4,
 "nbformat_minor": 5
}
